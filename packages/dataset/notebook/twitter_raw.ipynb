{
 "cells": [
  {
   "cell_type": "code",
   "execution_count": null,
   "metadata": {},
   "outputs": [],
   "source": [
    "import os\n",
    "import sys\n",
    "module_path = os.path.abspath(os.path.join('..'))\n",
    "if module_path not in sys.path:\n",
    "    sys.path.append(module_path)"
   ]
  },
  {
   "cell_type": "code",
   "execution_count": null,
   "metadata": {},
   "outputs": [],
   "source": [
    "import os\n",
    "import csv\n",
    "import pandas as pd\n",
    "import numpy as np\n",
    "from src.graph_file_iterator import GraphFileIterator\n",
    "from tqdm import tqdm\n",
    "from src.var import *"
   ]
  },
  {
   "cell_type": "code",
   "execution_count": null,
   "metadata": {},
   "outputs": [],
   "source": [
    "ego_users = pd.DataFrame(\n",
    "    data=set([int(os.path.splitext(f)[0]) for f in os.listdir(TWITTER_DATA_DIR)]),\n",
    "    columns=['user_id']\n",
    ")\n",
    "\n",
    "ego_users_set = set(ego_users['user_id'].astype(int))\n",
    "\n",
    "ego_users.to_pickle(USERS_DATA)\n",
    "\n",
    "ego_users.head()"
   ]
  },
  {
   "cell_type": "code",
   "execution_count": null,
   "metadata": {},
   "outputs": [],
   "source": [
    "related_users = pd.DataFrame(columns=['ego_user_id', 'user_id'])\n",
    "\n",
    "for circles_filename, circles_filepath in tqdm(GraphFileIterator(TWITTER_DATA_DIR, '.circles')):\n",
    "    user_id = int(os.path.splitext(circles_filename)[0])\n",
    "    related = set()\n",
    "\n",
    "    for row in csv.reader(open(circles_filepath), delimiter='\\t'):\n",
    "        circle_users = set(map(int, row[2:]))\n",
    "        related.update(set.intersection(ego_users_set, circle_users))\n",
    "\n",
    "    for related_user in related:\n",
    "        related_users.loc[len(related_users)] = [user_id, related_user]\n",
    "\n",
    "related_users.to_pickle(RELATED_USERS_DATA)\n",
    "\n",
    "related_users"
   ]
  },
  {
   "cell_type": "code",
   "execution_count": null,
   "metadata": {},
   "outputs": [],
   "source": [
    "followers = pd.DataFrame(columns=['source', 'target'])\n",
    "\n",
    "for followers_filename, followers_filepath in tqdm(GraphFileIterator(TWITTER_DATA_DIR, '.edges')):\n",
    "    source = int(os.path.splitext(followers_filename)[0])\n",
    "\n",
    "    for row in csv.reader(open(followers_filepath), delimiter=' '):\n",
    "        u1 = int(row[0])\n",
    "        u2 = int(row[1])\n",
    "\n",
    "        for target in [u1, u2]:\n",
    "            if target in ego_users_set:\n",
    "                followers.loc[len(followers)] = [source, target]\n",
    "\n",
    "followers = followers.drop_duplicates()\n",
    "\n",
    "followers.to_pickle(FOLLOWERS_DATA)\n",
    "\n",
    "followers"
   ]
  },
  {
   "cell_type": "code",
   "execution_count": null,
   "metadata": {},
   "outputs": [],
   "source": [
    "def load_features(node_id):\n",
    "    features = []\n",
    "\n",
    "    for row in csv.reader(open(os.path.join(TWITTER_DATA_DIR, f'{node_id}.feat'), encoding='latin1'), delimiter=' '):\n",
    "        row_id = row[0]\n",
    "        feature = row[1:]\n",
    "\n",
    "        features.append(row)\n",
    "\n",
    "    return features\n",
    "\n",
    "posts = pd.DataFrame(columns=['user_id', 'post_tags', 'direct'])\n",
    "\n",
    "for user_id in tqdm(ego_users['user_id']):\n",
    "    feat_names = pd.read_csv(os.path.join(TWITTER_DATA_DIR, f'{user_id}.featnames'), delimiter=' ', header=None, index_col=0).iloc[:, 0]\n",
    "    ego_features = np.array(next(csv.reader(pd.read_csv(os.path.join(TWITTER_DATA_DIR, f'{user_id}.egofeat')), delimiter=' '))).astype(int)\n",
    "\n",
    "    user_features_all = pd.DataFrame({'features': ego_features, 'names': feat_names})\n",
    "    posts.loc[len(posts)] = [int(user_id), user_features_all[user_features_all['features'] == 1]['names'].values, 1]\n",
    "\n",
    "    for row in csv.reader(open(os.path.join(TWITTER_DATA_DIR, f'{user_id}.feat'), encoding='latin1'), delimiter=' '):\n",
    "        row_features = pd.DataFrame({'features': row[1:], 'names': feat_names})\n",
    "        selected_row_features = list(row_features[row_features['features'] == '1']['names'])\n",
    "\n",
    "        if len(selected_row_features):\n",
    "            posts.loc[len(posts)] = [int(user_id), selected_row_features, 0]\n",
    "    \n",
    "posts.to_pickle(POSTS_DATA)\n",
    "\n",
    "posts"
   ]
  }
 ],
 "metadata": {
  "kernelspec": {
   "display_name": ".venv",
   "language": "python",
   "name": "python3"
  },
  "language_info": {
   "codemirror_mode": {
    "name": "ipython",
    "version": 3
   },
   "file_extension": ".py",
   "mimetype": "text/x-python",
   "name": "python",
   "nbconvert_exporter": "python",
   "pygments_lexer": "ipython3",
   "version": "3.12.2"
  }
 },
 "nbformat": 4,
 "nbformat_minor": 2
}
