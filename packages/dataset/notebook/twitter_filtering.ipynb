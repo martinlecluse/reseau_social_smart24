{
 "cells": [
  {
   "cell_type": "code",
   "execution_count": null,
   "metadata": {},
   "outputs": [],
   "source": [
    "import os\n",
    "import sys\n",
    "module_path = os.path.abspath(os.path.join('..'))\n",
    "if module_path not in sys.path:\n",
    "    sys.path.append(module_path)"
   ]
  },
  {
   "cell_type": "code",
   "execution_count": null,
   "metadata": {},
   "outputs": [],
   "source": [
    "import os\n",
    "from unidecode import unidecode\n",
    "import pandas as pd\n",
    "import numpy as np\n",
    "from faker import Faker\n",
    "from src.var import *\n",
    "from tqdm import tqdm\n",
    "from datetime import datetime"
   ]
  },
  {
   "cell_type": "code",
   "execution_count": null,
   "metadata": {},
   "outputs": [],
   "source": [
    "users = pd.read_pickle(USERS_DATA)\n",
    "followers = pd.read_pickle(FOLLOWERS_DATA)"
   ]
  },
  {
   "cell_type": "code",
   "execution_count": null,
   "metadata": {},
   "outputs": [],
   "source": [
    "users_following = followers.groupby('source').agg({'target': 'count'}).index\n",
    "users_followed = followers.groupby('target').agg({'source': 'count'}).index\n",
    "\n",
    "users_filtered = users[users['user_id'].isin(users_following) & users['user_id'].isin(users_followed)]\n",
    "\n",
    "users_filtered"
   ]
  },
  {
   "cell_type": "code",
   "execution_count": null,
   "metadata": {},
   "outputs": [],
   "source": [
    "Faker.seed(69)\n",
    "np.random.seed(69)\n",
    "fake = Faker(locale=['fr-FR', 'fr-CA'])\n",
    "\n",
    "users_data = users_filtered.copy()\n",
    "\n",
    "users_data['name'] = users_data['user_id'].apply(lambda x: fake.name())\n",
    "users_data['username'] = users_data['name'].str.split(' ').str[0].str.lower().apply(unidecode).str.replace('-', '') + np.random.randint(0, 1000, len(users_data)).astype(str)\n",
    "users_data['email'] = (users_data['username'] + '@').apply(lambda x: x + fake.free_email_domain())\n",
    "users_data['birthday'] = users_data['user_id'].apply(lambda x: fake.date_between(start_date= datetime(1955, 1, 1), end_date=datetime(2005, 12, 30)))\n",
    "\n",
    "users_data['credibility'] = np.random.beta(3.5, 1.4, len(users_data))\n",
    "users_data['integrity'] = np.random.beta(3.5, 1.4, len(users_data))\n",
    "\n",
    "users_data['follows'] = users_data['user_id'].apply(lambda x: followers[followers['source'] == x]['target'].values)\n",
    "\n",
    "users_data"
   ]
  },
  {
   "cell_type": "code",
   "execution_count": null,
   "metadata": {},
   "outputs": [],
   "source": [
    "np.random.seed(69)\n",
    "\n",
    "SCALE = 3\n",
    "THRESHOLD = 1.5\n",
    "\n",
    "users_trust = pd.merge(\n",
    "    left=followers,\n",
    "    right=users_data[['user_id', 'credibility', 'integrity']],\n",
    "    left_on='source',\n",
    "    right_on='user_id',\n",
    ")\n",
    "users_trust = users_trust.rename(columns={'credibility': 'source_credibility', 'integrity': 'source_integrity'})\n",
    "users_trust = users_trust.drop(columns='user_id')\n",
    "\n",
    "users_trust = pd.merge(\n",
    "    left=users_trust,\n",
    "    right=users_data[['user_id', 'credibility', 'integrity']],\n",
    "    left_on='target',\n",
    "    right_on='user_id',\n",
    ")\n",
    "users_trust = users_trust.rename(columns={'credibility': 'target_credibility', 'integrity': 'target_integrity'})\n",
    "users_trust = users_trust.drop(columns='user_id')\n",
    "\n",
    "users_trust = users_trust.drop(columns=['target_integrity', 'source_integrity'])\n",
    "\n",
    "users_trust['diff'] = (users_trust['source_credibility'] - users_trust['target_credibility']).abs()\n",
    "users_trust['prob_trust'] = np.exp(-users_trust['diff'] / SCALE)\n",
    "users_trust['prob_distrust'] = users_trust['diff'] / THRESHOLD * np.exp(-users_trust['diff'] / SCALE)\n",
    "users_trust['prob_neutral'] = (1 - users_trust['prob_trust'] - users_trust['prob_distrust']).clip(0, 1)\n",
    "users_trust['prob_sum'] = users_trust[['prob_trust', 'prob_distrust', 'prob_neutral']].sum(axis=1)\n",
    "users_trust['prob_trust'] /= users_trust['prob_sum']\n",
    "users_trust['prob_distrust'] /= users_trust['prob_sum']\n",
    "users_trust['prob_neutral'] /= users_trust['prob_sum']\n",
    "users_trust['trust'] = users_trust.apply(lambda row: np.random.choice([1, -1, 0], p=[row['prob_trust'], row['prob_distrust'], row['prob_neutral']]), axis=1)\n",
    "\n",
    "users_trust = users_trust[['source', 'target', 'trust']]\n",
    "\n",
    "users_trust"
   ]
  },
  {
   "cell_type": "code",
   "execution_count": null,
   "metadata": {},
   "outputs": [],
   "source": [
    "users_data['trustedUsers'] = users_data['user_id'].apply(lambda user_id: users_trust[(users_trust['source'] == user_id) & (users_trust['trust'] == 1)]['target'].values)\n",
    "users_data['distrustedUsers'] = users_data['user_id'].apply(lambda user_id: users_trust[(users_trust['source'] == user_id) & (users_trust['trust'] == -1)]['target'].values)\n",
    "\n",
    "users_data.to_csv(USERS_DATA_CSV, index=False)\n",
    "\n",
    "users_data"
   ]
  },
  {
   "cell_type": "code",
   "execution_count": null,
   "metadata": {},
   "outputs": [],
   "source": [
    "posts = pd.read_pickle(POSTS_DATA)\n",
    "\n",
    "posts"
   ]
  },
  {
   "cell_type": "code",
   "execution_count": null,
   "metadata": {},
   "outputs": [],
   "source": [
    "np.random.seed(69)\n",
    "\n",
    "posts_data = pd.merge(\n",
    "    left=posts,\n",
    "    right=users_data[['user_id', 'credibility']],\n",
    "    on='user_id',\n",
    "    how='inner'\n",
    ")\n",
    "\n",
    "posts_data['post_credibility'] = np.random.normal(posts_data['credibility'], 0.2).clip(0, 1)\n",
    "posts_data = posts_data.drop(columns=['credibility'])\n",
    "\n",
    "posts_data"
   ]
  },
  {
   "cell_type": "code",
   "execution_count": null,
   "metadata": {},
   "outputs": [],
   "source": [
    "np.random.seed(69)\n",
    "\n",
    "reacted_post_data = posts_data.copy()\n",
    "\n",
    "reacted_post_data['likedBy'] = None\n",
    "reacted_post_data['dislikedBy'] = None\n",
    "reacted_post_data['trustedBy'] = None\n",
    "reacted_post_data['distrustedBy'] = None\n",
    "\n",
    "for i, post in tqdm(posts_data.iterrows(), total=len(posts_data)):\n",
    "    user = users_data[users_data['user_id'] == post['user_id']].iloc[0]\n",
    "    user_followers = followers[followers['target'] == post['user_id']]['source']\n",
    "    \n",
    "    followers_react_count = int(np.clip(np.random.normal(len(user_followers) / 2, len(user_followers) / 4), 0, len(user_followers)))\n",
    "    non_followers_react_count = int(np.clip(np.random.normal(len(user_followers), len(user_followers) / 2), 0, len(user_followers)))\n",
    "\n",
    "    followers_react = user_followers.sample(n=followers_react_count)\n",
    "    non_followers_react = users[~users['user_id'].isin(followers_react)].sample(n=non_followers_react_count)['user_id']\n",
    "    users_react = pd.concat([followers_react, non_followers_react]).reset_index(drop=True)\n",
    "    users_react = users_data[users_data['user_id'].isin(users_react)][['user_id', 'credibility', 'integrity']]\n",
    "    \n",
    "    users_react['credibility_diff'] = (users_react['credibility'] - post['post_credibility']).abs()\n",
    "    users_react['likelihood_of_trust'] = 1 - users_react['credibility_diff']\n",
    "    users_react['likelihood_of_liking'] = 1 - users_react['integrity'] * users_react['credibility_diff']\n",
    "    users_react['trust'] = users_react['likelihood_of_trust'] > np.random.rand(len(users_react))\n",
    "    users_react['like'] = users_react['likelihood_of_liking'] > np.random.rand(len(users_react))\n",
    "\n",
    "    reacted_post_data.loc[[i], 'likedBy'] = [[users_react[users_react['like'] == True]['user_id'].values]]\n",
    "    reacted_post_data.loc[[i], 'dislikedBy'] = [[users_react[users_react['like'] == False]['user_id'].values]]\n",
    "    reacted_post_data.loc[[i], 'trustedBy'] = [[users_react[users_react['trust'] == True]['user_id'].values]]\n",
    "    reacted_post_data.loc[[i], 'distrustedBy'] = [[users_react[users_react['trust'] == False]['user_id'].values]]\n",
    "\n",
    "reacted_post_data['likedBy'] = reacted_post_data['likedBy'].str[0]\n",
    "reacted_post_data['dislikedBy'] = reacted_post_data['dislikedBy'].str[0]\n",
    "reacted_post_data['trustedBy'] = reacted_post_data['trustedBy'].str[0]\n",
    "reacted_post_data['distrustedBy'] = reacted_post_data['distrustedBy'].str[0]\n",
    "\n",
    "posts_data.to_csv(POSTS_DATA_CSV, index=False)\n",
    "\n",
    "reacted_post_data"
   ]
  }
 ],
 "metadata": {
  "kernelspec": {
   "display_name": ".venv",
   "language": "python",
   "name": "python3"
  },
  "language_info": {
   "codemirror_mode": {
    "name": "ipython",
    "version": 3
   },
   "file_extension": ".py",
   "mimetype": "text/x-python",
   "name": "python",
   "nbconvert_exporter": "python",
   "pygments_lexer": "ipython3",
   "version": "3.12.2"
  }
 },
 "nbformat": 4,
 "nbformat_minor": 2
}
