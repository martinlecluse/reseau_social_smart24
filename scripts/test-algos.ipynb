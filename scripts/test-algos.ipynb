{
 "cells": [
  {
   "cell_type": "code",
   "execution_count": 1,
   "metadata": {},
   "outputs": [],
   "source": [
    "import subprocess\n",
    "\n",
    "path = 'http://localhost:3000'\n",
    "\n",
    "algo_path = '/algo'\n",
    "login_path = '/login'\n",
    "\n",
    "userId ='663117a8f167898c82de380b'\n",
    "\n",
    "#Login\n",
    "login_url = path + login_path\n",
    "credentials = '{username : \"momo\", password: \"azerty\"}'\n",
    "login_commad = ['curl', '-X', 'POST', login_url, credentials]\n",
    "\n",
    "resp = subprocess.check_output(login_commad).decode('utf-8')"
   ]
  },
  {
   "cell_type": "markdown",
   "metadata": {},
   "source": [
    "### Appel à l'algo"
   ]
  },
  {
   "cell_type": "code",
   "execution_count": 2,
   "metadata": {},
   "outputs": [
    {
     "name": "stdout",
     "output_type": "stream",
     "text": [
      "{\"message\":\"You must be logged in\",\"error\":\"Unauthorized\",\"stack\":[\"Error: You must be logged in\",\"    at /src/www/apps/server/src/middleware/auth.ts:28:19\",\"    at Generator.next (<anonymous>)\",\"    at /src/www/apps/server/src/middleware/auth.ts:8:71\",\"    at new Promise (<anonymous>)\",\"    at __awaiter (/src/www/apps/server/src/middleware/auth.ts:4:12)\",\"    at auth (/src/www/apps/server/src/middleware/auth.ts:23:95)\",\"    at Layer.handle [as handle_request] (/src/www/apps/server/node_modules/express/lib/router/layer.js:95:5)\",\"    at next (/src/www/apps/server/node_modules/express/lib/router/route.js:149:13)\",\"    at Route.dispatch (/src/www/apps/server/node_modules/express/lib/router/route.js:119:3)\",\"    at Layer.handle [as handle_request] (/src/www/apps/server/node_modules/express/lib/router/layer.js:95:5)\"]}\n"
     ]
    },
    {
     "name": "stderr",
     "output_type": "stream",
     "text": [
      "  % Total    % Received % Xferd  Average Speed   Time    Time     Time  Current\n",
      "                                 Dload  Upload   Total   Spent    Left  Speed\n",
      "100   826  100   826    0     0  13646      0 --:--:-- --:--:-- --:--:-- 13766\n"
     ]
    }
   ],
   "source": [
    "url = path + userId\n",
    "\n",
    "command = ['curl', '-X', 'POST', url]\n",
    "\n",
    "response = subprocess.check_output(command).decode('utf-8')\n",
    "\n",
    "print(response)"
   ]
  }
 ],
 "metadata": {
  "kernelspec": {
   "display_name": "Python 3",
   "language": "python",
   "name": "python3"
  },
  "language_info": {
   "codemirror_mode": {
    "name": "ipython",
    "version": 3
   },
   "file_extension": ".py",
   "mimetype": "text/x-python",
   "name": "python",
   "nbconvert_exporter": "python",
   "pygments_lexer": "ipython3",
   "version": "3.9.6"
  }
 },
 "nbformat": 4,
 "nbformat_minor": 2
}
