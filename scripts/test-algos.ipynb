{
 "cells": [
  {
   "cell_type": "code",
   "execution_count": 30,
   "metadata": {},
   "outputs": [],
   "source": [
    "import subprocess\n",
    "import json\n",
    "\n",
    "path = 'http://localhost:3000'\n",
    "\n",
    "user_path = '/user'\n",
    "post_path = '/posts'\n",
    "algo_path = '/algo'\n",
    "login_path = '/login'\n",
    "\n",
    "userId ='6636519e142cc02609dccf68'\n",
    "credentials = '{\"username\" : \"emile54\", \"password\": \"12345\"}'\n",
    "\n",
    "algo_params = ['default', 'reconf1', 'reconf2', 'reco-divers']\n",
    "\n",
    "algo_default = '{\"type\": \"default\"}'\n",
    "algo_reconf1 = '{\"type\": \"reconf1\"}'\n",
    "algo_fact_checks = '{\"type\": \"reco-fact-check\"}'\n",
    "\n",
    "compute_simi_url = path + algo_path\n"
   ]
  },
  {
   "cell_type": "markdown",
   "metadata": {},
   "source": [
    "### Login"
   ]
  },
  {
   "cell_type": "code",
   "execution_count": 31,
   "metadata": {},
   "outputs": [
    {
     "name": "stderr",
     "output_type": "stream",
     "text": [
      "  % Total    % Received % Xferd  Average Speed   Time    Time     Time  Current\n",
      "                                 Dload  Upload   Total   Spent    Left  Speed\n",
      "100   340  100   295  100    45   1785    272 --:--:-- --:--:-- --:--:--  2060\n"
     ]
    }
   ],
   "source": [
    "login_url = path + login_path\n",
    "login_commad = ['curl', '-X', 'POST', '-H', 'Content-Type: application/json', '-d', credentials, login_url]\n",
    "\n",
    "resp = subprocess.check_output(login_commad).decode('utf-8')\n",
    "session_token = json.loads(resp)['token']"
   ]
  },
  {
   "cell_type": "markdown",
   "metadata": {},
   "source": [
    "### Calcul des similarités"
   ]
  },
  {
   "cell_type": "markdown",
   "metadata": {},
   "source": [
    "#### Default"
   ]
  },
  {
   "cell_type": "code",
   "execution_count": null,
   "metadata": {},
   "outputs": [],
   "source": [
    "#Compute suggestions\n",
    "\n",
    "command = ['curl', '-X', 'POST', '-H', 'Content-Type: application/json', '-H', 'Authorization: Bearer ' + session_token, '-d', algo_default, compute_sugg_url]\n",
    "response = subprocess.check_output(command).decode('utf-8')"
   ]
  },
  {
   "cell_type": "markdown",
   "metadata": {},
   "source": [
    "#### Reconf1"
   ]
  },
  {
   "cell_type": "code",
   "execution_count": 29,
   "metadata": {},
   "outputs": [
    {
     "name": "stderr",
     "output_type": "stream",
     "text": [
      "  % Total    % Received % Xferd  Average Speed   Time    Time     Time  Current\n",
      "                                 Dload  Upload   Total   Spent    Left  Speed\n",
      "100    19    0     0  100    19      0     21 --:--:-- --:--:-- --:--:--    21\n"
     ]
    }
   ],
   "source": [
    "#Compute suggestions\n",
    "\n",
    "command = ['curl', '-X', 'POST', '-H', 'Content-Type: application/json', '-H', 'Authorization: Bearer ' + session_token, '-d', algo_reconf1, compute_sugg_url]\n",
    "response = subprocess.check_output(command).decode('utf-8')"
   ]
  },
  {
   "cell_type": "markdown",
   "metadata": {},
   "source": [
    "#### Fact-checks"
   ]
  },
  {
   "cell_type": "code",
   "execution_count": 26,
   "metadata": {},
   "outputs": [
    {
     "name": "stderr",
     "output_type": "stream",
     "text": [
      "  % Total    % Received % Xferd  Average Speed   Time    Time     Time  Current\n",
      "                                 Dload  Upload   Total   Spent    Left  Speed\n",
      "100    27    0     0  100    27      0     26  0:00:01  0:00:01 --:--:--    26\n"
     ]
    }
   ],
   "source": [
    "command = ['curl', '-X', 'POST', '-H', 'Content-Type: application/json', '-H', 'Authorization: Bearer ' + session_token, '-d', algo_fact_checks, compute_sugg_url]\n",
    "response = subprocess.check_output(command).decode('utf-8')"
   ]
  },
  {
   "cell_type": "markdown",
   "metadata": {},
   "source": [
    "### Récupération des suggestions"
   ]
  },
  {
   "cell_type": "code",
   "execution_count": null,
   "metadata": {},
   "outputs": [],
   "source": [
    "#Retrieve user's ones\n",
    "get_suggestions_url = path + post_path + '/getSuggestions'\n",
    "\n",
    "command = ['curl', '-X', 'GET', '-H', 'Content-Type: application/json', '-H', 'Authorization: Bearer ' + session_token, get_suggestions_url]\n",
    "\n",
    "response = subprocess.check_output(command).decode('utf-8')\n",
    "feed = json.loads(response)['suggestions']\n",
    "print(feed)"
   ]
  },
  {
   "cell_type": "markdown",
   "metadata": {},
   "source": [
    "### Appel à toutes les versions de l'algo sur le même utilisateur"
   ]
  },
  {
   "cell_type": "code",
   "execution_count": null,
   "metadata": {},
   "outputs": [],
   "source": [
    "get_suggestions_url = path + post_path + '/getSuggestions'\n",
    "\n",
    "results = [] #to store results\n",
    "\n",
    "for algo_type in algo_params:\n",
    "\n",
    "    print(\"\\n\\nLoading suggestions for algo : \" + algo_type)\n",
    "\n",
    "    #Compute similarities\n",
    "    compute_sim_url = path + algo_path\n",
    "    command = ['curl', '-X', 'POST', '-H', 'Content-Type: application/json', '-H', 'Authorization: Bearer ' + session_token, '-d', credentials, compute_sim_url]\n",
    "    response = subprocess.check_output(command).decode('utf-8')\n",
    "\n",
    "    print(\"\\n\\tSimilarities computed\\n\")\n",
    "\n",
    "    #Load suggestions\n",
    "    command = ['curl', '-X', 'GET', '-H', 'Content-Type: application/json', '-H', 'Authorization: Bearer ' + session_token, get_suggestions_url]\n",
    "\n",
    "    response = subprocess.check_output(command).decode('utf-8')\n",
    "    results.append([algo_type, json.loads(response)['suggestions']])\n",
    "    print(\"\\n\\tSuggestions computed\\n\")\n",
    "\n",
    "print(results)\n",
    "    "
   ]
  },
  {
   "cell_type": "code",
   "execution_count": null,
   "metadata": {},
   "outputs": [],
   "source": [
    "for algo_type, feed in results:\n",
    "    id_list = [{\"id\": f[\"_id\"]} for f in feed]\n",
    "    print(id_list)"
   ]
  }
 ],
 "metadata": {
  "kernelspec": {
   "display_name": "Python 3",
   "language": "python",
   "name": "python3"
  },
  "language_info": {
   "codemirror_mode": {
    "name": "ipython",
    "version": 3
   },
   "file_extension": ".py",
   "mimetype": "text/x-python",
   "name": "python",
   "nbconvert_exporter": "python",
   "pygments_lexer": "ipython3",
   "version": "3.9.6"
  }
 },
 "nbformat": 4,
 "nbformat_minor": 2
}
